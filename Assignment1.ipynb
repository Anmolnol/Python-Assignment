{
 "cells": [
  {
   "cell_type": "markdown",
   "id": "3466dcef-a323-4d1a-ba32-0f656c43808b",
   "metadata": {},
   "source": [
    "Answer 1\n",
    "\n",
    "Values : ‘hello’ , -87.8 , 6\n",
    "Expressions : * , - , / , +"
   ]
  },
  {
   "cell_type": "markdown",
   "id": "c04650d3-8925-4721-b138-6ac716139f10",
   "metadata": {},
   "source": [
    "Answer 2\n",
    "\n",
    "Variable : A variable is a container that can store a value of various data types like integer, float, list, etc. \n",
    "for example a = 5 , in this example a is the variable which is holding the value 5 which is an integer.\n",
    "\n",
    "String : A string is a data type which is a sequence of characters. It is written inside single (' '), double (\" \") or triple (\"\"\" \"\"\") quotes.\n"
   ]
  },
  {
   "cell_type": "markdown",
   "id": "af4839dd-00fd-4575-b5ae-1f84cc5b17b5",
   "metadata": {},
   "source": [
    "Answer 3\n",
    "\n",
    "Integer : This data type can store numbers which are whole numbers, whether positive or negative. \n",
    "for example 1, 53, -76, -98\n",
    "\n",
    "Float : This data type can store decimal numbers.\n",
    "for example 1.23, -345.789\n",
    "\n",
    "Boolean : This data type can store only two values, whether True or False."
   ]
  },
  {
   "cell_type": "markdown",
   "id": "2b81043b-64e6-419e-9466-703f9904775b",
   "metadata": {},
   "source": [
    "Answer 4\n",
    "\n",
    "An expression is made up of mathematical operators, variables and values. \n",
    "An expression produces a value by evaluating."
   ]
  },
  {
   "cell_type": "markdown",
   "id": "f0a62adf-4e61-464d-9784-ddfbdc730c95",
   "metadata": {},
   "source": [
    "Answer 5\n",
    "\n",
    "An expression evaluates the variables, values and mathematical operators to produce a value while a statement is more like a command, it performs an action.\n",
    "As given spam = 10 , it is a statement which will assign value 10 to the span variable."
   ]
  },
  {
   "cell_type": "markdown",
   "id": "d79ece6c-9d58-4bba-bdd6-82f7115def2c",
   "metadata": {},
   "source": [
    "Answer 6 \n",
    "\n",
    "bacon = 22\n",
    "bacon + 1\n",
    "After running this code, the value of variable bacon will remain 22."
   ]
  },
  {
   "cell_type": "markdown",
   "id": "07b4ef66-c7ad-4f64-9459-cfa6c01a1376",
   "metadata": {},
   "source": [
    "Answer 7 \n",
    "\n",
    "'spam' + 'spamspam' \n",
    "'spam'*3\n",
    "Both statements will give same output which is 'spamspamspam'"
   ]
  },
  {
   "cell_type": "markdown",
   "id": "2d3b9ab6-4d6a-4032-b3ab-3c555fc3174d",
   "metadata": {},
   "source": [
    "Answer 8\n",
    "\n",
    "eggs is a valid variable name because it starts with a character and doesn't contains any special character which can't be used in variable name. It follows all variable naming rule.\n",
    "While on the other hand 100 is an invalid variable name because a variable name can't start with an integer."
   ]
  },
  {
   "cell_type": "markdown",
   "id": "a4930e11-4c19-4d31-a936-3453dd286240",
   "metadata": {},
   "source": [
    "Answer 9\n",
    "\n",
    "For integer, we can use int() function.\n",
    "For floating point number, we can use float() function.\n",
    "For string, we can use str() function."
   ]
  },
  {
   "cell_type": "markdown",
   "id": "7455b0dd-b30f-4c90-a209-2a55d76182a1",
   "metadata": {},
   "source": [
    "Answer 10\n",
    "\n",
    "'I have eaten' + 99 + 'burritos.'\n",
    "The above expression will give error because we cannot append an integer with a string.\n",
    "If we want to append 99 between both strings, we have to change it to string data type which can be done simply just by putting 99 between '  '.\n",
    "So if we write the expression like this it won't give an error\n",
    "'I have eaten' + '99' + 'burritos.'"
   ]
  }
 ],
 "metadata": {
  "kernelspec": {
   "display_name": "Python [conda env:base] *",
   "language": "python",
   "name": "conda-base-py"
  },
  "language_info": {
   "codemirror_mode": {
    "name": "ipython",
    "version": 3
   },
   "file_extension": ".py",
   "mimetype": "text/x-python",
   "name": "python",
   "nbconvert_exporter": "python",
   "pygments_lexer": "ipython3",
   "version": "3.13.5"
  }
 },
 "nbformat": 4,
 "nbformat_minor": 5
}
