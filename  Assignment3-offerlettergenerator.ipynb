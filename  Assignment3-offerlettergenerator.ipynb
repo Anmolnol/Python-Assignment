{
 "cells": [
  {
   "cell_type": "markdown",
   "id": "5b52e7b8-d5f8-4fd4-a7e6-b2bfe9489981",
   "metadata": {},
   "source": [
    "#                Offer Letter Generator"
   ]
  },
  {
   "cell_type": "code",
   "execution_count": null,
   "id": "2e6f08b1-8144-4d43-ba8f-3b908c209d0e",
   "metadata": {},
   "outputs": [],
   "source": [
    "candidate_name = input(\"Enter name of the candidate : \")\n",
    "address = input(\"Enter address : \")\n",
    "job_position = input(\"Enter the job position offered to candidate : \")\n",
    "joining_date = input(\"Enter the expected joining date : \")\n",
    "total_salary = input(\"Enter total compensation package : \")\n",
    "your_name = input(\"Enter your name : \")\n",
    "your_email = input(\"Enter your email : \")\n",
    "\n",
    "print(f\"\"\"                                                                       JOB OFFER LETTER         \n",
    "{address}\n",
    "\n",
    "Dear {candidate_name},\n",
    "\n",
    "Subject: Offer of Employment for the position of {job_position}\n",
    "\n",
    "We are delighted to extend this formal offer of employment to you for the position of {job_position} at our organization. Based on your qualifications and the skills you demonstrated during the recruitment process, we are confident that you will be a valuable addition to our team.\n",
    "\n",
    "As discussed, your expected date of joining is {joining_date}. Your total compensation package will be {total_salary}, which includes all salary components as per the company’s policy. Further details regarding your compensation will be provided in your employment contract.\n",
    "\n",
    "We expect you to bring your best efforts to help the company achieve its goals, and we are committed to supporting your professional growth during your time with us.\n",
    "\n",
    "Please confirm your acceptance of this offer by sending an email to {your_email} at your earliest convenience. Should you have any queries regarding this offer, feel free to reach out to us.\n",
    "\n",
    "We look forward to having you onboard and are excited about the great things we can accomplish together.\n",
    "\n",
    "Sincerely,\n",
    "\n",
    "{your_name}\n",
    "HR Manager\n",
    "\"\"\")"
   ]
  }
 ],
 "metadata": {
  "kernelspec": {
   "display_name": "Python [conda env:base] *",
   "language": "python",
   "name": "conda-base-py"
  },
  "language_info": {
   "codemirror_mode": {
    "name": "ipython",
    "version": 3
   },
   "file_extension": ".py",
   "mimetype": "text/x-python",
   "name": "python",
   "nbconvert_exporter": "python",
   "pygments_lexer": "ipython3",
   "version": "3.13.5"
  }
 },
 "nbformat": 4,
 "nbformat_minor": 5
}
