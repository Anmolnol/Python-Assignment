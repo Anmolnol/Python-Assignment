{
 "cells": [
  {
   "cell_type": "markdown",
   "id": "ca7a148e-9a8c-4727-aedf-3174a0380fef",
   "metadata": {},
   "source": [
    "# **Python String Methods**"
   ]
  },
  {
   "cell_type": "markdown",
   "id": "1323a6f6-afd8-461a-8030-7d1d9eecef39",
   "metadata": {},
   "source": [
    "### str.capitalize()\n",
    "Capitalizes the first character."
   ]
  },
  {
   "cell_type": "code",
   "execution_count": 3,
   "id": "6e23d3b5-c08b-433e-82f7-338a66720aa6",
   "metadata": {},
   "outputs": [
    {
     "data": {
      "text/plain": [
       "'Hello'"
      ]
     },
     "execution_count": 3,
     "metadata": {},
     "output_type": "execute_result"
    }
   ],
   "source": [
    "str = 'hello'\n",
    "str.capitalize()"
   ]
  },
  {
   "cell_type": "code",
   "execution_count": 4,
   "id": "175f3a2b-6b6a-4a5b-8175-535ac09158c0",
   "metadata": {},
   "outputs": [
    {
     "data": {
      "text/plain": [
       "'Hello'"
      ]
     },
     "execution_count": 4,
     "metadata": {},
     "output_type": "execute_result"
    }
   ],
   "source": [
    "str = 'hELLo'\n",
    "str.capitalize()"
   ]
  },
  {
   "cell_type": "markdown",
   "id": "536853ee-9561-417d-b1ba-9dd9c0afe7b8",
   "metadata": {},
   "source": [
    "### str.casefold()\n",
    "Converts to lowercase (more aggressive than lower())."
   ]
  },
  {
   "cell_type": "code",
   "execution_count": 8,
   "id": "378376f1-f8d5-448e-9372-d3ae2d9351bf",
   "metadata": {},
   "outputs": [
    {
     "data": {
      "text/plain": [
       "'hello'"
      ]
     },
     "execution_count": 8,
     "metadata": {},
     "output_type": "execute_result"
    }
   ],
   "source": [
    "str = 'HELLO'\n",
    "str.casefold()"
   ]
  },
  {
   "cell_type": "markdown",
   "id": "eb45ec76-0512-473d-86c7-484b97832f06",
   "metadata": {},
   "source": [
    "### str.center(width[, fillchar])\n",
    "Centers the string within the specified width."
   ]
  },
  {
   "cell_type": "code",
   "execution_count": 23,
   "id": "27b8c7d7-4478-4571-8004-781866de1ee5",
   "metadata": {
    "scrolled": true
   },
   "outputs": [
    {
     "data": {
      "text/plain": [
       "'       hello        '"
      ]
     },
     "execution_count": 23,
     "metadata": {},
     "output_type": "execute_result"
    }
   ],
   "source": [
    "str = 'hello'\n",
    "str.center(20)"
   ]
  },
  {
   "cell_type": "markdown",
   "id": "64842966-3b01-4c1f-a5b8-31e3ce676bb1",
   "metadata": {},
   "source": [
    "### str.count(sub[, start[, end]])\n",
    "Returns the number of non-overlapping occurrences of a substring."
   ]
  },
  {
   "cell_type": "code",
   "execution_count": 34,
   "id": "f9fa26ba-acf8-43ce-945f-ce7fe50034ce",
   "metadata": {},
   "outputs": [
    {
     "data": {
      "text/plain": [
       "5"
      ]
     },
     "execution_count": 34,
     "metadata": {},
     "output_type": "execute_result"
    }
   ],
   "source": [
    "str = 'hello hello hello hello hello'\n",
    "str.count('ell')"
   ]
  },
  {
   "cell_type": "code",
   "execution_count": 33,
   "id": "2a57d6b2-15b8-4699-98cf-50f953da5d99",
   "metadata": {},
   "outputs": [
    {
     "data": {
      "text/plain": [
       "2"
      ]
     },
     "execution_count": 33,
     "metadata": {},
     "output_type": "execute_result"
    }
   ],
   "source": [
    "str.count('lo',10,25)"
   ]
  },
  {
   "cell_type": "markdown",
   "id": "52de0068-9a6e-401e-929e-4ff84dd8e1ef",
   "metadata": {},
   "source": [
    "### str.encode(encoding=\"utf-8\", errors=\"strict\")\n",
    "Returns encoded version of the string."
   ]
  },
  {
   "cell_type": "code",
   "execution_count": 48,
   "id": "0526b4b8-5d1b-44eb-96f9-c91bc3dd47b3",
   "metadata": {},
   "outputs": [
    {
     "data": {
      "text/plain": [
       "b'hello'"
      ]
     },
     "execution_count": 48,
     "metadata": {},
     "output_type": "execute_result"
    }
   ],
   "source": [
    "str = 'hello'\n",
    "str.encode()"
   ]
  },
  {
   "cell_type": "code",
   "execution_count": 50,
   "id": "edd55218-d052-4dfd-9510-dba348f6907b",
   "metadata": {},
   "outputs": [
    {
     "data": {
      "text/plain": [
       "b'abcdefghijklmonpqrstuvwxyz'"
      ]
     },
     "execution_count": 50,
     "metadata": {},
     "output_type": "execute_result"
    }
   ],
   "source": [
    "string = \"abcdefghijklmonpqrstuvwxyz\"\n",
    "string.encode(encoding='ascii',errors='replace')"
   ]
  },
  {
   "cell_type": "markdown",
   "id": "01aecc14-475e-4621-8ea6-7bd2ca2e2aa2",
   "metadata": {},
   "source": [
    "### str.endswith(suffix[, start[, end]])\n",
    "Returns True if the string ends with the specified suffix."
   ]
  },
  {
   "cell_type": "code",
   "execution_count": 52,
   "id": "bb7a1ef6-e0f5-4a0c-8db1-804b9ddb9459",
   "metadata": {},
   "outputs": [
    {
     "data": {
      "text/plain": [
       "True"
      ]
     },
     "execution_count": 52,
     "metadata": {},
     "output_type": "execute_result"
    }
   ],
   "source": [
    "str = 'This is Python'\n",
    "str.endswith('on')"
   ]
  },
  {
   "cell_type": "code",
   "execution_count": 53,
   "id": "dbe4ee16-ee88-480d-a80e-1ae7602c59d3",
   "metadata": {},
   "outputs": [
    {
     "data": {
      "text/plain": [
       "True"
      ]
     },
     "execution_count": 53,
     "metadata": {},
     "output_type": "execute_result"
    }
   ],
   "source": [
    "str.endswith('Py',7,10)"
   ]
  },
  {
   "cell_type": "markdown",
   "id": "95ef6f94-26ae-43d6-bfb7-a26e2d52d48d",
   "metadata": {},
   "source": [
    "### str.expandtabs(tabsize=8)\n",
    "Replaces tabs with spaces."
   ]
  },
  {
   "cell_type": "code",
   "execution_count": 57,
   "id": "2b18d501-0028-45a5-8e9a-c8cf399fc226",
   "metadata": {},
   "outputs": [
    {
     "data": {
      "text/plain": [
       "'H       e       l       l       o'"
      ]
     },
     "execution_count": 57,
     "metadata": {},
     "output_type": "execute_result"
    }
   ],
   "source": [
    "str = 'H\\te\\tl\\tl\\to'\n",
    "str.expandtabs()"
   ]
  },
  {
   "cell_type": "code",
   "execution_count": 58,
   "id": "96a46ae6-9a69-495c-bd8d-add158db0ffd",
   "metadata": {},
   "outputs": [
    {
     "data": {
      "text/plain": [
       "'H              e              l              l              o'"
      ]
     },
     "execution_count": 58,
     "metadata": {},
     "output_type": "execute_result"
    }
   ],
   "source": [
    "str = 'H\\te\\tl\\tl\\to'\n",
    "str.expandtabs(15)"
   ]
  },
  {
   "cell_type": "markdown",
   "id": "c97c93b0-965b-4cf3-a95a-a95e593e4197",
   "metadata": {},
   "source": [
    "### str.find(sub[, start[, end]])\n",
    "Returns the lowest index of the substring; returns -1 if not found."
   ]
  },
  {
   "cell_type": "code",
   "execution_count": 60,
   "id": "c3fa1251-6f85-451b-a42a-64e4149f9945",
   "metadata": {},
   "outputs": [
    {
     "data": {
      "text/plain": [
       "2"
      ]
     },
     "execution_count": 60,
     "metadata": {},
     "output_type": "execute_result"
    }
   ],
   "source": [
    "str = 'This is Python'\n",
    "str.find('is')"
   ]
  },
  {
   "cell_type": "code",
   "execution_count": 62,
   "id": "3aac9580-4e7a-4b62-81cb-bc44c5ce06a1",
   "metadata": {},
   "outputs": [
    {
     "data": {
      "text/plain": [
       "5"
      ]
     },
     "execution_count": 62,
     "metadata": {},
     "output_type": "execute_result"
    }
   ],
   "source": [
    "str = 'This is Python'\n",
    "str.find('is',4,9)"
   ]
  },
  {
   "cell_type": "markdown",
   "id": "8eb660ba-315f-4021-b587-ff3ad34763b6",
   "metadata": {},
   "source": [
    "### str.format(*args, **kwargs)\n",
    "Formats string using the specified arguments."
   ]
  },
  {
   "cell_type": "code",
   "execution_count": 63,
   "id": "f2850a08-3a2c-4502-adf4-f4a18b09c91a",
   "metadata": {},
   "outputs": [
    {
     "data": {
      "text/plain": [
       "'This is Python'"
      ]
     },
     "execution_count": 63,
     "metadata": {},
     "output_type": "execute_result"
    }
   ],
   "source": [
    "str = 'This is {}'\n",
    "str.format('Python')"
   ]
  },
  {
   "cell_type": "code",
   "execution_count": 64,
   "id": "5c27cdfd-2b40-4cbd-a46e-39023fa3c9d0",
   "metadata": {},
   "outputs": [
    {
     "data": {
      "text/plain": [
       "'Hello! Nol Welcome back'"
      ]
     },
     "execution_count": 64,
     "metadata": {},
     "output_type": "execute_result"
    }
   ],
   "source": [
    "str = 'Hello! {} Welcome {}'\n",
    "str.format('Nol' , 'back')"
   ]
  },
  {
   "cell_type": "code",
   "execution_count": 5,
   "id": "26e8888b-6ab8-425f-b5de-d342c3ecdae2",
   "metadata": {},
   "outputs": [
    {
     "name": "stdout",
     "output_type": "stream",
     "text": [
      "Hello, I am 18 years old!\n"
     ]
    }
   ],
   "source": [
    "age = 18\n",
    "print(\"Hello, I am {} years old!\".format(age))"
   ]
  },
  {
   "cell_type": "markdown",
   "id": "4543bd43-8b5e-458f-8143-49ff3e1935b0",
   "metadata": {},
   "source": [
    "### str.format_map(mapping)\n",
    "Formats string using a mapping."
   ]
  },
  {
   "cell_type": "code",
   "execution_count": 8,
   "id": "e165442a-4df3-4870-a2c7-27e545c5c059",
   "metadata": {},
   "outputs": [
    {
     "data": {
      "text/plain": [
       "'Hi, my name is Nol and I am 21 years old.'"
      ]
     },
     "execution_count": 8,
     "metadata": {},
     "output_type": "execute_result"
    }
   ],
   "source": [
    "data = {'name' : 'Nol', 'age' : '21'}\n",
    "str = 'Hi, my name is {name} and I am {age} years old.'\n",
    "str.format_map(data)"
   ]
  },
  {
   "cell_type": "code",
   "execution_count": 9,
   "id": "a9ac5d20-e995-44d0-b889-e6dec0e3836b",
   "metadata": {},
   "outputs": [
    {
     "name": "stdout",
     "output_type": "stream",
     "text": [
      "Nol scored 80 in hindi\n",
      "Yoo scored 98 in maths\n"
     ]
    }
   ],
   "source": [
    "student = {'name':['Nol','Yoo'], 'marks':['80','98'], 'subject':['hindi','maths']}\n",
    "print('{name[0]} scored {marks[0]} in {subject[0]}'.format_map(student))\n",
    "print('{name[1]} scored {marks[1]} in {subject[1]}'.format_map(student))"
   ]
  },
  {
   "cell_type": "markdown",
   "id": "ba2734a1-83de-4e76-8c3b-79632730f074",
   "metadata": {},
   "source": [
    "### str.index(sub[, start[, end]])\n",
    "Like find() but raises ValueError if not found."
   ]
  },
  {
   "cell_type": "code",
   "execution_count": 10,
   "id": "0fee757c-7708-4512-85cc-e47396477813",
   "metadata": {},
   "outputs": [
    {
     "data": {
      "text/plain": [
       "6"
      ]
     },
     "execution_count": 10,
     "metadata": {},
     "output_type": "execute_result"
    }
   ],
   "source": [
    "str = 'Hello world'\n",
    "str.index('wor')"
   ]
  },
  {
   "cell_type": "code",
   "execution_count": 11,
   "id": "abe0d611-8a1a-4293-aefb-6609f13bfa03",
   "metadata": {},
   "outputs": [
    {
     "ename": "ValueError",
     "evalue": "substring not found",
     "output_type": "error",
     "traceback": [
      "\u001b[1;31m---------------------------------------------------------------------------\u001b[0m",
      "\u001b[1;31mValueError\u001b[0m                                Traceback (most recent call last)",
      "Cell \u001b[1;32mIn[11], line 2\u001b[0m\n\u001b[0;32m      1\u001b[0m \u001b[38;5;28mstr\u001b[39m \u001b[38;5;241m=\u001b[39m \u001b[38;5;124m'\u001b[39m\u001b[38;5;124mHello world\u001b[39m\u001b[38;5;124m'\u001b[39m\n\u001b[1;32m----> 2\u001b[0m \u001b[38;5;28mstr\u001b[39m\u001b[38;5;241m.\u001b[39mindex(\u001b[38;5;124m'\u001b[39m\u001b[38;5;124my\u001b[39m\u001b[38;5;124m'\u001b[39m)\n",
      "\u001b[1;31mValueError\u001b[0m: substring not found"
     ]
    }
   ],
   "source": [
    "str = 'Hello world'\n",
    "str.index('y') # this will give an ValueError. If we have used find() here instead of index, it will give -1 as output."
   ]
  },
  {
   "cell_type": "markdown",
   "id": "310b302e-fd73-4a79-9787-2b594ccc0a74",
   "metadata": {},
   "source": [
    "### str.isalnum()\n",
    "Returns True if all characters are alphanumeric."
   ]
  },
  {
   "cell_type": "code",
   "execution_count": 12,
   "id": "1d063a2d-5b7b-4421-9a3a-727e013c9a4f",
   "metadata": {},
   "outputs": [
    {
     "data": {
      "text/plain": [
       "False"
      ]
     },
     "execution_count": 12,
     "metadata": {},
     "output_type": "execute_result"
    }
   ],
   "source": [
    "str = 'This is 001 '\n",
    "str.isalnum()"
   ]
  },
  {
   "cell_type": "code",
   "execution_count": 13,
   "id": "e1945492-9c9b-412b-8eaf-bd9f21ddf4e8",
   "metadata": {},
   "outputs": [
    {
     "data": {
      "text/plain": [
       "True"
      ]
     },
     "execution_count": 13,
     "metadata": {},
     "output_type": "execute_result"
    }
   ],
   "source": [
    "str = 'Hello12345'\n",
    "str.isalnum()"
   ]
  },
  {
   "cell_type": "markdown",
   "id": "2a4de9fe-e2f0-4a38-b7eb-72214cc5ea77",
   "metadata": {},
   "source": [
    "### str.isalpha()\n",
    "Returns True if all characters are alphabetic."
   ]
  },
  {
   "cell_type": "code",
   "execution_count": 14,
   "id": "b34a7964-ded8-4f32-9266-ceb435fdcbc3",
   "metadata": {},
   "outputs": [
    {
     "data": {
      "text/plain": [
       "True"
      ]
     },
     "execution_count": 14,
     "metadata": {},
     "output_type": "execute_result"
    }
   ],
   "source": [
    "str = 'Hello'\n",
    "str.isalpha()"
   ]
  },
  {
   "cell_type": "code",
   "execution_count": 15,
   "id": "f07f1ed8-32a6-4814-a271-32968d9f3d2d",
   "metadata": {},
   "outputs": [
    {
     "data": {
      "text/plain": [
       "False"
      ]
     },
     "execution_count": 15,
     "metadata": {},
     "output_type": "execute_result"
    }
   ],
   "source": [
    "str = 'hello world'\n",
    "str.isalpha()"
   ]
  },
  {
   "cell_type": "code",
   "execution_count": 16,
   "id": "34a168b2-3670-4a3a-9b13-f9207ba7672b",
   "metadata": {},
   "outputs": [
    {
     "data": {
      "text/plain": [
       "True"
      ]
     },
     "execution_count": 16,
     "metadata": {},
     "output_type": "execute_result"
    }
   ],
   "source": [
    "'happy'.isalpha()"
   ]
  },
  {
   "cell_type": "markdown",
   "id": "3aae6519-c2b3-4b2d-844b-95f752cc23ee",
   "metadata": {},
   "source": [
    "### str.isascii()\n",
    "Returns True if all characters are ASCII."
   ]
  },
  {
   "cell_type": "code",
   "execution_count": 18,
   "id": "3ef5bbf3-624c-4270-84ef-4249ae4a9cee",
   "metadata": {},
   "outputs": [
    {
     "data": {
      "text/plain": [
       "True"
      ]
     },
     "execution_count": 18,
     "metadata": {},
     "output_type": "execute_result"
    }
   ],
   "source": [
    "str = 'helios'\n",
    "str.isascii()"
   ]
  },
  {
   "cell_type": "code",
   "execution_count": 21,
   "id": "af176fd5-3afa-4c05-9f0f-f0dda913b8df",
   "metadata": {},
   "outputs": [
    {
     "data": {
      "text/plain": [
       "False"
      ]
     },
     "execution_count": 21,
     "metadata": {},
     "output_type": "execute_result"
    }
   ],
   "source": [
    "str = 'ひais'\n",
    "str.isascii()"
   ]
  },
  {
   "cell_type": "markdown",
   "id": "e717264a-0a50-4f16-af13-35fd99947e30",
   "metadata": {},
   "source": [
    "### str.isdecimal()\n",
    "Returns True if all characters are decimal characters."
   ]
  },
  {
   "cell_type": "code",
   "execution_count": 22,
   "id": "d0443c39-cd49-4b78-8075-f1b05454e8b3",
   "metadata": {},
   "outputs": [
    {
     "data": {
      "text/plain": [
       "True"
      ]
     },
     "execution_count": 22,
     "metadata": {},
     "output_type": "execute_result"
    }
   ],
   "source": [
    "str = '234'\n",
    "str.isdecimal()"
   ]
  },
  {
   "cell_type": "code",
   "execution_count": 24,
   "id": "e67fb90b-59b3-4f4b-90ed-f56a7ef42f4d",
   "metadata": {},
   "outputs": [
    {
     "data": {
      "text/plain": [
       "False"
      ]
     },
     "execution_count": 24,
     "metadata": {},
     "output_type": "execute_result"
    }
   ],
   "source": [
    "str = '1.234'\n",
    "str.isdecimal() #Return false because . is not a decimal character"
   ]
  },
  {
   "cell_type": "markdown",
   "id": "77f74228-7c70-44ba-984e-6afc25bbeba5",
   "metadata": {},
   "source": [
    "### str.isdigit()\n",
    "Returns True if all characters are digits."
   ]
  },
  {
   "cell_type": "code",
   "execution_count": 25,
   "id": "722f3f57-b708-476a-a012-9fca73802918",
   "metadata": {},
   "outputs": [
    {
     "data": {
      "text/plain": [
       "False"
      ]
     },
     "execution_count": 25,
     "metadata": {},
     "output_type": "execute_result"
    }
   ],
   "source": [
    "str = '12342a'\n",
    "str.isdigit()"
   ]
  },
  {
   "cell_type": "code",
   "execution_count": 27,
   "id": "ccf9b1b7-6fac-491e-a4d9-08a9bfe04f1b",
   "metadata": {},
   "outputs": [
    {
     "data": {
      "text/plain": [
       "True"
      ]
     },
     "execution_count": 27,
     "metadata": {},
     "output_type": "execute_result"
    }
   ],
   "source": [
    "str = '2342'\n",
    "str.isdigit()"
   ]
  },
  {
   "cell_type": "code",
   "execution_count": 31,
   "id": "016c6924-3303-4592-80a6-8f3bb0e4c9fc",
   "metadata": {},
   "outputs": [
    {
     "name": "stdout",
     "output_type": "stream",
     "text": [
      "True\n"
     ]
    }
   ],
   "source": [
    "print('²'.isdigit())  # The main difference between isdigit() and isdecimal() is that \n",
    "#isdigit() returns true for Unicode-supported digits like superscripts and subscripts while isdecimal() returns false for them"
   ]
  },
  {
   "cell_type": "markdown",
   "id": "61789ba0-1789-497e-916c-b25867b1480e",
   "metadata": {},
   "source": [
    "### str.isidentifier()\n",
    "Returns True if string is a valid identifier."
   ]
  },
  {
   "cell_type": "code",
   "execution_count": 32,
   "id": "c7c08b73-b487-4982-b333-bfed5d486634",
   "metadata": {},
   "outputs": [
    {
     "data": {
      "text/plain": [
       "True"
      ]
     },
     "execution_count": 32,
     "metadata": {},
     "output_type": "execute_result"
    }
   ],
   "source": [
    "str = 'variable'\n",
    "str.isidentifier()"
   ]
  },
  {
   "cell_type": "code",
   "execution_count": 33,
   "id": "e917471d-39c7-4b05-b8c3-2f94fa64f577",
   "metadata": {},
   "outputs": [
    {
     "data": {
      "text/plain": [
       "True"
      ]
     },
     "execution_count": 33,
     "metadata": {},
     "output_type": "execute_result"
    }
   ],
   "source": [
    "str = 'vari_able'\n",
    "str.isidentifier()"
   ]
  },
  {
   "cell_type": "code",
   "execution_count": 34,
   "id": "c258f1af-d2af-40ee-b01f-73040a28d9fc",
   "metadata": {},
   "outputs": [
    {
     "data": {
      "text/plain": [
       "False"
      ]
     },
     "execution_count": 34,
     "metadata": {},
     "output_type": "execute_result"
    }
   ],
   "source": [
    "'12@my'.isidentifier()"
   ]
  },
  {
   "cell_type": "markdown",
   "id": "2e796eaf-15e6-4aa7-b35f-763c85a50dd3",
   "metadata": {},
   "source": [
    "### str.islower()\n",
    "Returns True if all characters are lowercase."
   ]
  },
  {
   "cell_type": "code",
   "execution_count": 35,
   "id": "1b7be915-c725-496f-859a-9135487cae9c",
   "metadata": {},
   "outputs": [
    {
     "data": {
      "text/plain": [
       "True"
      ]
     },
     "execution_count": 35,
     "metadata": {},
     "output_type": "execute_result"
    }
   ],
   "source": [
    "str = 'hello'\n",
    "str.islower()"
   ]
  },
  {
   "cell_type": "code",
   "execution_count": 36,
   "id": "b9aff7a2-1066-49c2-938c-0bb27f81c749",
   "metadata": {},
   "outputs": [
    {
     "data": {
      "text/plain": [
       "False"
      ]
     },
     "execution_count": 36,
     "metadata": {},
     "output_type": "execute_result"
    }
   ],
   "source": [
    "str = 'HEllo'\n",
    "str.islower()"
   ]
  },
  {
   "cell_type": "markdown",
   "id": "eb8eabdc-a3f8-4a52-bed4-14f7a2540504",
   "metadata": {},
   "source": [
    "### str.isnumeric()\n",
    "Returns True if all characters are numeric."
   ]
  },
  {
   "cell_type": "code",
   "execution_count": 38,
   "id": "cf48cb2c-af0a-47e3-a3e4-c3aa9969e1c1",
   "metadata": {},
   "outputs": [
    {
     "data": {
      "text/plain": [
       "True"
      ]
     },
     "execution_count": 38,
     "metadata": {},
     "output_type": "execute_result"
    }
   ],
   "source": [
    "str = '12345'\n",
    "str.isnumeric()"
   ]
  },
  {
   "cell_type": "code",
   "execution_count": 40,
   "id": "83b153e3-ae12-4987-8582-113dd1c9ad9b",
   "metadata": {},
   "outputs": [
    {
     "name": "stdout",
     "output_type": "stream",
     "text": [
      "True\n"
     ]
    }
   ],
   "source": [
    "print(\"¾\".isnumeric())        # It will return True while isdigit() and isdecimal() won't"
   ]
  },
  {
   "cell_type": "code",
   "execution_count": 41,
   "id": "49c1d770-68e6-4e3f-b73f-140efe4dc861",
   "metadata": {},
   "outputs": [
    {
     "data": {
      "text/plain": [
       "False"
      ]
     },
     "execution_count": 41,
     "metadata": {},
     "output_type": "execute_result"
    }
   ],
   "source": [
    "str = ''\n",
    "str.isnumeric()"
   ]
  },
  {
   "cell_type": "markdown",
   "id": "f399af3c-f5c8-4552-a3e5-a4fbd4949ae8",
   "metadata": {},
   "source": [
    "### str.isprintable()\n",
    "Returns True if all characters are printable."
   ]
  },
  {
   "cell_type": "code",
   "execution_count": 42,
   "id": "6c806b24-f17f-459c-a3e9-41e86d308807",
   "metadata": {},
   "outputs": [
    {
     "data": {
      "text/plain": [
       "True"
      ]
     },
     "execution_count": 42,
     "metadata": {},
     "output_type": "execute_result"
    }
   ],
   "source": [
    "str = 'Hello World'\n",
    "str.isprintable()"
   ]
  },
  {
   "cell_type": "code",
   "execution_count": 43,
   "id": "3ff3cf2c-73ed-4ff8-8900-15f73cfa91e8",
   "metadata": {},
   "outputs": [
    {
     "data": {
      "text/plain": [
       "False"
      ]
     },
     "execution_count": 43,
     "metadata": {},
     "output_type": "execute_result"
    }
   ],
   "source": [
    "str = 'Hello \\t World'\n",
    "str.isprintable()"
   ]
  },
  {
   "cell_type": "markdown",
   "id": "cfdd4e56-2572-443b-ad60-6eb92c1eb874",
   "metadata": {},
   "source": [
    "### str.isspace()\n",
    "Returns True if all characters are whitespace."
   ]
  },
  {
   "cell_type": "code",
   "execution_count": 44,
   "id": "0296e850-7d7e-4aa3-b7f3-168fe01ae7b6",
   "metadata": {},
   "outputs": [
    {
     "data": {
      "text/plain": [
       "True"
      ]
     },
     "execution_count": 44,
     "metadata": {},
     "output_type": "execute_result"
    }
   ],
   "source": [
    "str = '    '\n",
    "str.isspace()"
   ]
  },
  {
   "cell_type": "code",
   "execution_count": 45,
   "id": "b9e67760-40ca-4a72-a330-6e42c158692a",
   "metadata": {},
   "outputs": [
    {
     "data": {
      "text/plain": [
       "True"
      ]
     },
     "execution_count": 45,
     "metadata": {},
     "output_type": "execute_result"
    }
   ],
   "source": [
    "str = '\\n\\t'\n",
    "str.isspace()"
   ]
  },
  {
   "cell_type": "code",
   "execution_count": 47,
   "id": "9ef269f4-bb1e-4644-8bf6-d911ceef8116",
   "metadata": {},
   "outputs": [
    {
     "data": {
      "text/plain": [
       "False"
      ]
     },
     "execution_count": 47,
     "metadata": {},
     "output_type": "execute_result"
    }
   ],
   "source": [
    "''.isspace()"
   ]
  },
  {
   "cell_type": "markdown",
   "id": "2763f9ad-670f-48f2-8f87-284dccb28f69",
   "metadata": {},
   "source": [
    "### str.istitle()\n",
    "Returns True if the string is titlecased. \n",
    "\n",
    "A string is considered to be in title case by istitle() if: \n",
    "* Each word in the string starts with an uppercase letter.\n",
    "* All other letters within each word are lowercase.\n",
    "* Symbols and numbers are ignored by the method when determining title case."
   ]
  },
  {
   "cell_type": "code",
   "execution_count": 48,
   "id": "8ae64d99-ba1c-485c-9746-c18913d2491a",
   "metadata": {},
   "outputs": [
    {
     "data": {
      "text/plain": [
       "True"
      ]
     },
     "execution_count": 48,
     "metadata": {},
     "output_type": "execute_result"
    }
   ],
   "source": [
    "str = 'Hello World'\n",
    "str.istitle()"
   ]
  },
  {
   "cell_type": "code",
   "execution_count": 49,
   "id": "338924e8-bb42-4156-b72f-767ed885a426",
   "metadata": {},
   "outputs": [
    {
     "data": {
      "text/plain": [
       "False"
      ]
     },
     "execution_count": 49,
     "metadata": {},
     "output_type": "execute_result"
    }
   ],
   "source": [
    "str = 'HELLO WORLD'\n",
    "str.istitle()"
   ]
  },
  {
   "cell_type": "code",
   "execution_count": 50,
   "id": "10fc958e-460d-46f3-8f22-c04416252b60",
   "metadata": {},
   "outputs": [
    {
     "data": {
      "text/plain": [
       "True"
      ]
     },
     "execution_count": 50,
     "metadata": {},
     "output_type": "execute_result"
    }
   ],
   "source": [
    "str = 'Hello!!!!'\n",
    "str.istitle()"
   ]
  },
  {
   "cell_type": "markdown",
   "id": "c565d8bd-c4d4-45d8-b143-66eaf88377c3",
   "metadata": {},
   "source": [
    "### str.isupper()\n",
    "Returns True if all characters are uppercase."
   ]
  },
  {
   "cell_type": "code",
   "execution_count": 51,
   "id": "88eb0849-5e9b-4929-86ca-c20ed96ccb86",
   "metadata": {},
   "outputs": [
    {
     "data": {
      "text/plain": [
       "False"
      ]
     },
     "execution_count": 51,
     "metadata": {},
     "output_type": "execute_result"
    }
   ],
   "source": [
    "str = 'Hello'\n",
    "str.isupper()"
   ]
  },
  {
   "cell_type": "code",
   "execution_count": 52,
   "id": "f9970858-69c0-4f47-be94-8986694993fb",
   "metadata": {},
   "outputs": [
    {
     "data": {
      "text/plain": [
       "True"
      ]
     },
     "execution_count": 52,
     "metadata": {},
     "output_type": "execute_result"
    }
   ],
   "source": [
    "str = 'HELLO!'\n",
    "str.isupper()"
   ]
  },
  {
   "cell_type": "markdown",
   "id": "1ea52603-997d-4c42-835f-7244e803d0fe",
   "metadata": {},
   "source": [
    "### str.join(iterable)\n",
    "Joins elements of an iterable with the string as a separator."
   ]
  },
  {
   "cell_type": "code",
   "execution_count": 53,
   "id": "8d78ab8e-978d-45ef-a692-b0e3ae4bce80",
   "metadata": {},
   "outputs": [
    {
     "data": {
      "text/plain": [
       "'hi,hello,hy'"
      ]
     },
     "execution_count": 53,
     "metadata": {},
     "output_type": "execute_result"
    }
   ],
   "source": [
    "str = ('hi', 'hello', 'hy')\n",
    "','.join(str)"
   ]
  },
  {
   "cell_type": "markdown",
   "id": "ac6ec62e-934d-4aea-a2aa-0633a2643e2c",
   "metadata": {},
   "source": [
    "### str.ljust(width[, fillchar])\n",
    "Left-justifies the string."
   ]
  },
  {
   "cell_type": "code",
   "execution_count": 57,
   "id": "544d0ad9-55a7-4ca8-b147-039b12a64c0e",
   "metadata": {},
   "outputs": [
    {
     "data": {
      "text/plain": [
       "'Hello---------------'"
      ]
     },
     "execution_count": 57,
     "metadata": {},
     "output_type": "execute_result"
    }
   ],
   "source": [
    "str = 'Hello'\n",
    "str.ljust(20,'-')  # the string 'Hello' is left-justified to a width of 20 characters, with '-' added to the right.\n",
    "# default fillchar is ' '"
   ]
  },
  {
   "cell_type": "markdown",
   "id": "82a86c41-a85e-4519-819e-7976bec33cb9",
   "metadata": {},
   "source": [
    "### str.lower()\n",
    "Converts to lowercase."
   ]
  },
  {
   "cell_type": "code",
   "execution_count": 58,
   "id": "143ad0ae-d63d-49be-bcb5-00565e759fab",
   "metadata": {},
   "outputs": [
    {
     "data": {
      "text/plain": [
       "'hello'"
      ]
     },
     "execution_count": 58,
     "metadata": {},
     "output_type": "execute_result"
    }
   ],
   "source": [
    "str = 'HEllo'\n",
    "str.lower()"
   ]
  },
  {
   "cell_type": "code",
   "execution_count": 59,
   "id": "6f2c3601-1460-4b13-a3f8-3947f5e2a23c",
   "metadata": {},
   "outputs": [
    {
     "data": {
      "text/plain": [
       "'hello!!!'"
      ]
     },
     "execution_count": 59,
     "metadata": {},
     "output_type": "execute_result"
    }
   ],
   "source": [
    "str = 'Hello!!!'\n",
    "str.lower()"
   ]
  },
  {
   "cell_type": "markdown",
   "id": "a87f5f13-f2e8-45e8-8868-6f4449782f5c",
   "metadata": {},
   "source": [
    "### str.lstrip([chars])\n",
    "Removes leading characters (default: whitespace)."
   ]
  },
  {
   "cell_type": "code",
   "execution_count": 60,
   "id": "45af0644-960e-4f35-b7bd-c5c8e2c061b1",
   "metadata": {},
   "outputs": [
    {
     "data": {
      "text/plain": [
       "'Hello'"
      ]
     },
     "execution_count": 60,
     "metadata": {},
     "output_type": "execute_result"
    }
   ],
   "source": [
    "str = '     Hello'\n",
    "str.lstrip()"
   ]
  },
  {
   "cell_type": "code",
   "execution_count": 61,
   "id": "2cf663bb-3f48-4abb-97e5-b8bac6b05ec2",
   "metadata": {},
   "outputs": [
    {
     "data": {
      "text/plain": [
       "'Hello'"
      ]
     },
     "execution_count": 61,
     "metadata": {},
     "output_type": "execute_result"
    }
   ],
   "source": [
    "str = 'elloHello'\n",
    "str.lstrip('ello')"
   ]
  },
  {
   "cell_type": "code",
   "execution_count": 65,
   "id": "a7576dea-17e0-41e8-8a5e-2e68ee24932c",
   "metadata": {},
   "outputs": [
    {
     "data": {
      "text/plain": [
       "'hell/o'"
      ]
     },
     "execution_count": 65,
     "metadata": {},
     "output_type": "execute_result"
    }
   ],
   "source": [
    "str = '///hell/o'\n",
    "str.lstrip('/')"
   ]
  },
  {
   "cell_type": "markdown",
   "id": "1124c32c-9202-4a3f-9586-fbabb82b9ace",
   "metadata": {},
   "source": [
    "### str.maketrans(x, y=None, z=None)\n",
    "Returns a translation table."
   ]
  },
  {
   "cell_type": "code",
   "execution_count": 73,
   "id": "2a422df0-c7fd-4a94-a9f2-6989f991f8e1",
   "metadata": {},
   "outputs": [
    {
     "data": {
      "text/plain": [
       "{97: 65, 101: 69, 105: 73, 111: 79, 117: 85}"
      ]
     },
     "execution_count": 73,
     "metadata": {},
     "output_type": "execute_result"
    }
   ],
   "source": [
    "str.maketrans(\"aeiou\", \"AEIOU\")"
   ]
  },
  {
   "cell_type": "code",
   "execution_count": 75,
   "id": "7faabeac-3904-432f-a95b-0b11a20547e3",
   "metadata": {},
   "outputs": [
    {
     "data": {
      "text/plain": [
       "'HEllo'"
      ]
     },
     "execution_count": 75,
     "metadata": {},
     "output_type": "execute_result"
    }
   ],
   "source": [
    "t = str.maketrans('abcde','ABCDE')\n",
    "'Hello'.translate(t)"
   ]
  },
  {
   "cell_type": "code",
   "execution_count": 90,
   "id": "867bbbbb-8e2a-4621-9fd9-b4657cc7256d",
   "metadata": {},
   "outputs": [
    {
     "data": {
      "text/plain": [
       "'iello vorld'"
      ]
     },
     "execution_count": 90,
     "metadata": {},
     "output_type": "execute_result"
    }
   ],
   "source": [
    "t = str.maketrans({\"H\": \"i\", \"W\": \"v\"})\n",
    "'Hello World'.translate(t)"
   ]
  },
  {
   "cell_type": "markdown",
   "id": "8eb9cc62-1109-40b6-8e13-d7de818b217b",
   "metadata": {},
   "source": [
    "### str.partition(sep)\n",
    "Splits the string at the first occurrence of sep."
   ]
  },
  {
   "cell_type": "code",
   "execution_count": 91,
   "id": "e8fcf8bd-80e1-4ace-bb07-1f9c3d22096c",
   "metadata": {},
   "outputs": [
    {
     "data": {
      "text/plain": [
       "('Hello', ' ', 'world')"
      ]
     },
     "execution_count": 91,
     "metadata": {},
     "output_type": "execute_result"
    }
   ],
   "source": [
    "str = 'Hello world'\n",
    "str.partition(\" \")"
   ]
  },
  {
   "cell_type": "code",
   "execution_count": 92,
   "id": "84dade96-42be-43fe-8f99-aadebde8dacb",
   "metadata": {},
   "outputs": [
    {
     "data": {
      "text/plain": [
       "('hi', ',', 'hello,hey')"
      ]
     },
     "execution_count": 92,
     "metadata": {},
     "output_type": "execute_result"
    }
   ],
   "source": [
    "str = 'hi,hello,hey'\n",
    "str.partition(',')"
   ]
  },
  {
   "cell_type": "markdown",
   "id": "e467df06-658c-491a-bc56-41f22f52eb48",
   "metadata": {},
   "source": [
    "### str.removeprefix(prefix)\n",
    "Removes the specified prefix if present."
   ]
  },
  {
   "cell_type": "code",
   "execution_count": 93,
   "id": "2aee1e79-562e-4bda-b60a-5e1c24181bce",
   "metadata": {},
   "outputs": [
    {
     "data": {
      "text/plain": [
       "'llo'"
      ]
     },
     "execution_count": 93,
     "metadata": {},
     "output_type": "execute_result"
    }
   ],
   "source": [
    "str = 'hello'\n",
    "str.removeprefix('he')"
   ]
  },
  {
   "cell_type": "code",
   "execution_count": 94,
   "id": "0decfb44-d737-420e-b40a-f030713319a8",
   "metadata": {},
   "outputs": [
    {
     "data": {
      "text/plain": [
       "'hello'"
      ]
     },
     "execution_count": 94,
     "metadata": {},
     "output_type": "execute_result"
    }
   ],
   "source": [
    "str = 'hello'\n",
    "str.removeprefix(\"hi\")"
   ]
  },
  {
   "cell_type": "code",
   "execution_count": 101,
   "id": "cd503af2-8973-41e6-bd47-3f306cbd7749",
   "metadata": {},
   "outputs": [
    {
     "data": {
      "text/plain": [
       "'hello'"
      ]
     },
     "execution_count": 101,
     "metadata": {},
     "output_type": "execute_result"
    }
   ],
   "source": [
    "str = ' hello'\n",
    "str.removeprefix(' ')"
   ]
  },
  {
   "cell_type": "markdown",
   "id": "14b72c37-6539-47b8-8b3e-7c55d2355f96",
   "metadata": {},
   "source": [
    "### str.removesuffix(suffix)\n",
    "Removes the specified suffix if present."
   ]
  },
  {
   "cell_type": "code",
   "execution_count": 95,
   "id": "6970890a-559a-420e-94c6-34e55123146e",
   "metadata": {},
   "outputs": [
    {
     "data": {
      "text/plain": [
       "'hel'"
      ]
     },
     "execution_count": 95,
     "metadata": {},
     "output_type": "execute_result"
    }
   ],
   "source": [
    "str = 'hello'\n",
    "str.removesuffix('lo')"
   ]
  },
  {
   "cell_type": "code",
   "execution_count": 104,
   "id": "56ad15ea-b539-4d8f-9ab1-b0bb71710edc",
   "metadata": {},
   "outputs": [
    {
     "data": {
      "text/plain": [
       "'hello'"
      ]
     },
     "execution_count": 104,
     "metadata": {},
     "output_type": "execute_result"
    }
   ],
   "source": [
    "str = 'hello '\n",
    "str.removesuffix(' ')"
   ]
  },
  {
   "cell_type": "markdown",
   "id": "7806bab5-0aea-469c-898b-d1c3ca6e5671",
   "metadata": {},
   "source": [
    "### str.replace(old, new[, count])\n",
    "Returns a copy with all occurrences of a substring replaced."
   ]
  },
  {
   "cell_type": "code",
   "execution_count": 105,
   "id": "2f2c8044-7a87-47ef-9d8d-9d646e9ff364",
   "metadata": {},
   "outputs": [
    {
     "data": {
      "text/plain": [
       "'This is World'"
      ]
     },
     "execution_count": 105,
     "metadata": {},
     "output_type": "execute_result"
    }
   ],
   "source": [
    "str = 'This is Python'\n",
    "str.replace('Python','World')"
   ]
  },
  {
   "cell_type": "code",
   "execution_count": 106,
   "id": "4a059532-0da1-407e-94c1-cc7baaa92dbe",
   "metadata": {},
   "outputs": [
    {
     "data": {
      "text/plain": [
       "'grapes,banana,grapes,guava,apple,mango'"
      ]
     },
     "execution_count": 106,
     "metadata": {},
     "output_type": "execute_result"
    }
   ],
   "source": [
    "str = 'apple,banana,apple,guava,apple,mango'\n",
    "str.replace('apple','grapes',2)"
   ]
  },
  {
   "cell_type": "markdown",
   "id": "e80384c9-3bc5-4ac2-8c07-b5de7d420eee",
   "metadata": {},
   "source": [
    "### str.rfind(sub[, start[, end]])\n",
    "Returns the highest index of the substring."
   ]
  },
  {
   "cell_type": "code",
   "execution_count": 108,
   "id": "664f8ff0-b64a-4bff-84d4-3c21684fd0c5",
   "metadata": {},
   "outputs": [
    {
     "data": {
      "text/plain": [
       "11"
      ]
     },
     "execution_count": 108,
     "metadata": {},
     "output_type": "execute_result"
    }
   ],
   "source": [
    "str = 'hellololololo'\n",
    "str.rfind('lo')"
   ]
  },
  {
   "cell_type": "code",
   "execution_count": 109,
   "id": "2d4c1ecb-ce93-4c2b-b51c-d8d762c6caf0",
   "metadata": {},
   "outputs": [
    {
     "data": {
      "text/plain": [
       "2"
      ]
     },
     "execution_count": 109,
     "metadata": {},
     "output_type": "execute_result"
    }
   ],
   "source": [
    "str = 'hihihihihi'\n",
    "str.rfind('hi',0,5)"
   ]
  },
  {
   "cell_type": "code",
   "execution_count": 110,
   "id": "3fd0eea7-133e-4601-bae5-33c172ca17b4",
   "metadata": {},
   "outputs": [
    {
     "data": {
      "text/plain": [
       "-1"
      ]
     },
     "execution_count": 110,
     "metadata": {},
     "output_type": "execute_result"
    }
   ],
   "source": [
    "str = 'hihihihi'\n",
    "str.rfind('he')"
   ]
  },
  {
   "cell_type": "markdown",
   "id": "15ebcc22-880a-4495-94af-a36ffbde25c4",
   "metadata": {},
   "source": [
    "### str.rindex(sub[, start[, end]])\n",
    "Like rfind() but raises ValueError if not found."
   ]
  },
  {
   "cell_type": "code",
   "execution_count": 112,
   "id": "916d5ca8-79ae-4c6e-9a0d-baea5b207c98",
   "metadata": {},
   "outputs": [
    {
     "ename": "ValueError",
     "evalue": "substring not found",
     "output_type": "error",
     "traceback": [
      "\u001b[1;31m---------------------------------------------------------------------------\u001b[0m",
      "\u001b[1;31mValueError\u001b[0m                                Traceback (most recent call last)",
      "Cell \u001b[1;32mIn[112], line 2\u001b[0m\n\u001b[0;32m      1\u001b[0m \u001b[38;5;28mstr\u001b[39m \u001b[38;5;241m=\u001b[39m \u001b[38;5;124m'\u001b[39m\u001b[38;5;124mhihihihi\u001b[39m\u001b[38;5;124m'\u001b[39m\n\u001b[1;32m----> 2\u001b[0m \u001b[38;5;28mstr\u001b[39m\u001b[38;5;241m.\u001b[39mrindex(\u001b[38;5;124m'\u001b[39m\u001b[38;5;124mhe\u001b[39m\u001b[38;5;124m'\u001b[39m)\n",
      "\u001b[1;31mValueError\u001b[0m: substring not found"
     ]
    }
   ],
   "source": [
    "str = 'hihihihi'\n",
    "str.rindex('he')  # It will give ValueError while rfind() would have given -1 as an output "
   ]
  },
  {
   "cell_type": "code",
   "execution_count": 113,
   "id": "c4922a8d-e917-44a3-806e-bc89310e7060",
   "metadata": {},
   "outputs": [
    {
     "data": {
      "text/plain": [
       "6"
      ]
     },
     "execution_count": 113,
     "metadata": {},
     "output_type": "execute_result"
    }
   ],
   "source": [
    "str = 'hihihihi'\n",
    "str.rindex('hi')"
   ]
  },
  {
   "cell_type": "markdown",
   "id": "2fd938d6-ca0f-402e-bb0f-f389ad132e14",
   "metadata": {},
   "source": [
    "### str.rjust(width[, fillchar])\n",
    "Right-justifies the string."
   ]
  },
  {
   "cell_type": "code",
   "execution_count": 114,
   "id": "823d4791-a8ac-4cac-bf7e-95f6317c939b",
   "metadata": {},
   "outputs": [
    {
     "data": {
      "text/plain": [
       "'     hello'"
      ]
     },
     "execution_count": 114,
     "metadata": {},
     "output_type": "execute_result"
    }
   ],
   "source": [
    "str = 'hello'\n",
    "str.rjust(10)"
   ]
  },
  {
   "cell_type": "code",
   "execution_count": 115,
   "id": "9e958f89-340f-4f95-b6d9-e094f35d3762",
   "metadata": {},
   "outputs": [
    {
     "data": {
      "text/plain": [
       "'-----hello'"
      ]
     },
     "execution_count": 115,
     "metadata": {},
     "output_type": "execute_result"
    }
   ],
   "source": [
    "str='hello'\n",
    "str.rjust(10,'-')"
   ]
  },
  {
   "cell_type": "markdown",
   "id": "70adce4c-45c6-4f1b-a68c-9b3a4be5c1e8",
   "metadata": {},
   "source": [
    "### str.rsplit(sep=None, maxsplit=-1)\n",
    "Splits the string from the right."
   ]
  },
  {
   "cell_type": "code",
   "execution_count": 116,
   "id": "eee8e598-7899-436f-adaa-772fe6b155dc",
   "metadata": {},
   "outputs": [
    {
     "data": {
      "text/plain": [
       "['this', 'is', 'my', 'program']"
      ]
     },
     "execution_count": 116,
     "metadata": {},
     "output_type": "execute_result"
    }
   ],
   "source": [
    "str = 'this-is-my-program'\n",
    "str.rsplit('-')"
   ]
  },
  {
   "cell_type": "code",
   "execution_count": 117,
   "id": "c760cfd0-9313-4a6b-94a6-b32e6806ad54",
   "metadata": {},
   "outputs": [
    {
     "data": {
      "text/plain": [
       "['this-is', 'my', 'program']"
      ]
     },
     "execution_count": 117,
     "metadata": {},
     "output_type": "execute_result"
    }
   ],
   "source": [
    "str='this-is-my-program'\n",
    "str.rsplit('-',2)"
   ]
  },
  {
   "cell_type": "markdown",
   "id": "5323e52f-fce4-498f-bf5c-b58a0cef3375",
   "metadata": {},
   "source": [
    "### str.rstrip([chars])\n",
    "Removes trailing characters (default: whitespace)."
   ]
  },
  {
   "cell_type": "code",
   "execution_count": 118,
   "id": "3ec800e4-4bdc-4d71-9b44-f4a393b2687d",
   "metadata": {},
   "outputs": [
    {
     "data": {
      "text/plain": [
       "'   hello world'"
      ]
     },
     "execution_count": 118,
     "metadata": {},
     "output_type": "execute_result"
    }
   ],
   "source": [
    "str = '   hello world   '\n",
    "str.rstrip()"
   ]
  },
  {
   "cell_type": "code",
   "execution_count": 119,
   "id": "4b0e86e2-027d-4b0a-8a64-b7ed06e256c8",
   "metadata": {},
   "outputs": [
    {
     "data": {
      "text/plain": [
       "'hello wor'"
      ]
     },
     "execution_count": 119,
     "metadata": {},
     "output_type": "execute_result"
    }
   ],
   "source": [
    "str = 'hello world'\n",
    "str.rstrip('ld')"
   ]
  },
  {
   "cell_type": "markdown",
   "id": "0cef2fe0-f935-475b-8bc1-1342b7fed159",
   "metadata": {},
   "source": [
    "### str.split(sep=None, maxsplit=-1)\n",
    "Splits the string."
   ]
  },
  {
   "cell_type": "code",
   "execution_count": 120,
   "id": "9f4be379-36bf-44c9-8803-873cc5fc442b",
   "metadata": {},
   "outputs": [
    {
     "data": {
      "text/plain": [
       "['hello', 'world']"
      ]
     },
     "execution_count": 120,
     "metadata": {},
     "output_type": "execute_result"
    }
   ],
   "source": [
    "str = 'hello world'\n",
    "str.split()"
   ]
  },
  {
   "cell_type": "code",
   "execution_count": 121,
   "id": "0d66b822-1c7d-484c-8f16-1f35ae3ee494",
   "metadata": {},
   "outputs": [
    {
     "data": {
      "text/plain": [
       "['1', '2', '3', '4-5']"
      ]
     },
     "execution_count": 121,
     "metadata": {},
     "output_type": "execute_result"
    }
   ],
   "source": [
    "str = '1-2-3-4-5'\n",
    "str.split('-',3)"
   ]
  },
  {
   "cell_type": "markdown",
   "id": "f2075a4a-e8f8-490b-86e9-c40f3918cd9f",
   "metadata": {},
   "source": [
    "### str.splitlines([keepends])\n",
    "Splits at line breaks."
   ]
  },
  {
   "cell_type": "code",
   "execution_count": 122,
   "id": "38104323-e4b2-471b-a15e-77162b2d3459",
   "metadata": {},
   "outputs": [
    {
     "data": {
      "text/plain": [
       "['1', '2', '3', '4']"
      ]
     },
     "execution_count": 122,
     "metadata": {},
     "output_type": "execute_result"
    }
   ],
   "source": [
    "str = '1\\n2\\n3\\n4'\n",
    "str.splitlines()"
   ]
  },
  {
   "cell_type": "code",
   "execution_count": 127,
   "id": "ad4ef112-ff9f-4837-ac93-a13ec9d0c6a9",
   "metadata": {},
   "outputs": [
    {
     "data": {
      "text/plain": [
       "['1\\n', '2\\n', '3\\n', '4']"
      ]
     },
     "execution_count": 127,
     "metadata": {},
     "output_type": "execute_result"
    }
   ],
   "source": [
    "str = '1\\n2\\n3\\n4'\n",
    "str.splitlines('keepends') # We can also use True in place of keepends to keep \\n in the output"
   ]
  },
  {
   "cell_type": "markdown",
   "id": "1da80b47-e722-4f56-bc8d-383089de6eb5",
   "metadata": {},
   "source": [
    "### str.startswith(prefix[, start[, end]])\n",
    "Returns True if the string starts with the prefix."
   ]
  },
  {
   "cell_type": "code",
   "execution_count": 128,
   "id": "c7cfdd09-d782-4c1e-bf99-90c32ba1cfed",
   "metadata": {},
   "outputs": [
    {
     "data": {
      "text/plain": [
       "True"
      ]
     },
     "execution_count": 128,
     "metadata": {},
     "output_type": "execute_result"
    }
   ],
   "source": [
    "str = 'This is Python'\n",
    "str.startswith('This')"
   ]
  },
  {
   "cell_type": "code",
   "execution_count": 129,
   "id": "de98e042-b973-4a0e-a43e-812d9d9fe70d",
   "metadata": {},
   "outputs": [
    {
     "data": {
      "text/plain": [
       "False"
      ]
     },
     "execution_count": 129,
     "metadata": {},
     "output_type": "execute_result"
    }
   ],
   "source": [
    "str = 'This is Python'\n",
    "str.startswith('This',4)"
   ]
  },
  {
   "cell_type": "markdown",
   "id": "54542ac9-37bc-49fb-91d9-1110aad7f7ea",
   "metadata": {},
   "source": [
    "### str.strip([chars])\n",
    "Removes leading and trailing characters."
   ]
  },
  {
   "cell_type": "code",
   "execution_count": 132,
   "id": "3304650a-1569-46b8-9747-5ecea87f9481",
   "metadata": {},
   "outputs": [
    {
     "data": {
      "text/plain": [
       "'hello'"
      ]
     },
     "execution_count": 132,
     "metadata": {},
     "output_type": "execute_result"
    }
   ],
   "source": [
    "str = '    hello    '\n",
    "str.strip()"
   ]
  },
  {
   "cell_type": "code",
   "execution_count": 133,
   "id": "8907f6c1-4473-4a07-aeaa-b2c913459641",
   "metadata": {},
   "outputs": [
    {
     "data": {
      "text/plain": [
       "'hello'"
      ]
     },
     "execution_count": 133,
     "metadata": {},
     "output_type": "execute_result"
    }
   ],
   "source": [
    "str = '----hello-----'\n",
    "str.strip('-')"
   ]
  },
  {
   "cell_type": "markdown",
   "id": "d8002626-663a-4220-8f4f-2822e41fbc7e",
   "metadata": {},
   "source": [
    "### str.swapcase()\n",
    "Swaps case of all characters."
   ]
  },
  {
   "cell_type": "code",
   "execution_count": 134,
   "id": "01642170-d423-4724-a012-c5a99a4d9953",
   "metadata": {},
   "outputs": [
    {
     "data": {
      "text/plain": [
       "'hELLO'"
      ]
     },
     "execution_count": 134,
     "metadata": {},
     "output_type": "execute_result"
    }
   ],
   "source": [
    "str = 'Hello'\n",
    "str.swapcase()"
   ]
  },
  {
   "cell_type": "markdown",
   "id": "052c25a3-37b5-46f6-93d8-424e56a27fe8",
   "metadata": {},
   "source": [
    "### str.title()\n",
    "Returns a titlecased version of the string."
   ]
  },
  {
   "cell_type": "code",
   "execution_count": 135,
   "id": "cecfde75-aed9-4965-9231-22566bb783e7",
   "metadata": {},
   "outputs": [
    {
     "data": {
      "text/plain": [
       "'Hello World !!!'"
      ]
     },
     "execution_count": 135,
     "metadata": {},
     "output_type": "execute_result"
    }
   ],
   "source": [
    "str = 'hello world !!!'\n",
    "str.title()"
   ]
  },
  {
   "cell_type": "code",
   "execution_count": 136,
   "id": "8a2e3685-a545-4c4b-831e-3a00d3e4148f",
   "metadata": {},
   "outputs": [
    {
     "data": {
      "text/plain": [
       "' 1233 Hello'"
      ]
     },
     "execution_count": 136,
     "metadata": {},
     "output_type": "execute_result"
    }
   ],
   "source": [
    "str = ' 1233 hello'\n",
    "str.title()"
   ]
  },
  {
   "cell_type": "markdown",
   "id": "7a831fe9-1deb-471b-bcd7-05c3a3193f29",
   "metadata": {},
   "source": [
    "### str.translate(table)\n",
    "Returns a translated string."
   ]
  },
  {
   "cell_type": "code",
   "execution_count": 141,
   "id": "841519d5-4096-43a6-b19b-7295aac774a0",
   "metadata": {},
   "outputs": [
    {
     "data": {
      "text/plain": [
       "'HEllo'"
      ]
     },
     "execution_count": 141,
     "metadata": {},
     "output_type": "execute_result"
    }
   ],
   "source": [
    "t = str.maketrans('abcde','ABCDE')\n",
    "string = 'Hello'\n",
    "string.translate(t)"
   ]
  },
  {
   "cell_type": "code",
   "execution_count": 142,
   "id": "747bf267-d2f4-4005-a17b-b21d7889a692",
   "metadata": {},
   "outputs": [
    {
     "data": {
      "text/plain": [
       "'1ppl2@'"
      ]
     },
     "execution_count": 142,
     "metadata": {},
     "output_type": "execute_result"
    }
   ],
   "source": [
    "t = str.maketrans('aeiou','12345','?')\n",
    "string = 'apple@?'\n",
    "string.translate(t)"
   ]
  },
  {
   "cell_type": "markdown",
   "id": "21110462-4090-4d8c-889e-130becda6015",
   "metadata": {},
   "source": [
    "### str.upper()\n",
    "Converts all characters to uppercase."
   ]
  },
  {
   "cell_type": "code",
   "execution_count": 143,
   "id": "095d988e-113c-4e83-b10a-60c87b0418e2",
   "metadata": {},
   "outputs": [
    {
     "data": {
      "text/plain": [
       "'HELLO'"
      ]
     },
     "execution_count": 143,
     "metadata": {},
     "output_type": "execute_result"
    }
   ],
   "source": [
    "str = 'hello'\n",
    "str.upper()"
   ]
  },
  {
   "cell_type": "code",
   "execution_count": 144,
   "id": "8e774157-f2ff-4a57-aed0-00a0e92b105d",
   "metadata": {},
   "outputs": [
    {
     "data": {
      "text/plain": [
       "'HAPPY'"
      ]
     },
     "execution_count": 144,
     "metadata": {},
     "output_type": "execute_result"
    }
   ],
   "source": [
    "str = 'Happy'\n",
    "str.upper()"
   ]
  },
  {
   "cell_type": "markdown",
   "id": "319bd532-8191-4b91-b42e-2d9173796ea8",
   "metadata": {},
   "source": [
    "### str.zfill(width)\n",
    "Pads the string on the left with zeros."
   ]
  },
  {
   "cell_type": "code",
   "execution_count": 146,
   "id": "c3597b91-66c0-4a3d-a77f-8566e2bb00a2",
   "metadata": {},
   "outputs": [
    {
     "data": {
      "text/plain": [
       "'0000000hey'"
      ]
     },
     "execution_count": 146,
     "metadata": {},
     "output_type": "execute_result"
    }
   ],
   "source": [
    "str = 'hey'\n",
    "str.zfill(10)"
   ]
  }
 ],
 "metadata": {
  "kernelspec": {
   "display_name": "Python [conda env:base] *",
   "language": "python",
   "name": "conda-base-py"
  },
  "language_info": {
   "codemirror_mode": {
    "name": "ipython",
    "version": 3
   },
   "file_extension": ".py",
   "mimetype": "text/x-python",
   "name": "python",
   "nbconvert_exporter": "python",
   "pygments_lexer": "ipython3",
   "version": "3.13.5"
  }
 },
 "nbformat": 4,
 "nbformat_minor": 5
}
